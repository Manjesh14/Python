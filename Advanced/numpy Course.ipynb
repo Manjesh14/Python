{
 "cells": [
  {
   "cell_type": "markdown",
   "metadata": {},
   "source": [
    "1. NumPy"
   ]
  },
  {
   "cell_type": "markdown",
   "metadata": {},
   "source": [
    "1.1 Checking the fastness of NumPy Array  [(%timeit) Function]"
   ]
  },
  {
   "cell_type": "markdown",
   "metadata": {},
   "source": [
    "For List"
   ]
  },
  {
   "cell_type": "code",
   "execution_count": null,
   "metadata": {},
   "outputs": [],
   "source": [
    "%timeit [j**4 for j in range(1,9)]"
   ]
  },
  {
   "cell_type": "markdown",
   "metadata": {},
   "source": [
    "For NumPy Array"
   ]
  },
  {
   "cell_type": "code",
   "execution_count": null,
   "metadata": {},
   "outputs": [],
   "source": [
    "import numpy as np\n",
    "%timeit  np.arange(1,9)**4"
   ]
  },
  {
   "cell_type": "markdown",
   "metadata": {},
   "source": [
    "1.2 Creating a NumPy Array"
   ]
  },
  {
   "cell_type": "code",
   "execution_count": null,
   "metadata": {},
   "outputs": [],
   "source": [
    "import numpy as np\n",
    "x=[1,2,3,4]\n",
    "arr=np.array(x)\n",
    "print(arr)\n",
    "y=np.array([1,2,3,4])\n",
    "print(y)\n",
    "y\n",
    "print(type(arr))\n",
    "\n",
    "\n",
    "l=[]\n",
    "for i in range(1,5):\n",
    "    int_1=int(input(\"Enter : \"))\n",
    "    l.append(int_1)\n",
    "\n",
    "print(np.array(l))"
   ]
  },
  {
   "cell_type": "markdown",
   "metadata": {},
   "source": [
    "1.3 Dimensions in Arrays"
   ]
  },
  {
   "cell_type": "code",
   "execution_count": null,
   "metadata": {},
   "outputs": [],
   "source": [
    "import numpy as np\n",
    "y=np.array([1,2,3,4])\n",
    "print(y.ndim)\n",
    "\n",
    "y2=np.array([[1,2,3,4],[1,2,3,4]])\n",
    "print(y2.ndim)\n",
    "\n",
    "y3=np.array([[[1,2,3],[1,2,3]],[[1,2,3],[1,2,3]]])\n",
    "print(y3.ndim)\n",
    "\n",
    "# To create n dimension Array \n",
    "yn=np.array([1,2,3,4],ndmin=10)\n",
    "print(yn)\n",
    "print(yn.ndim)"
   ]
  },
  {
   "cell_type": "markdown",
   "metadata": {},
   "source": [
    "1.4 Special Types of Arrays"
   ]
  },
  {
   "cell_type": "markdown",
   "metadata": {},
   "source": [
    "1.4.1 Array filled with zero"
   ]
  },
  {
   "cell_type": "code",
   "execution_count": null,
   "metadata": {},
   "outputs": [],
   "source": [
    "import numpy as np\n",
    "\n",
    "ar_zero=np.zeros(4)\n",
    "print(ar_zero)\n",
    "\n",
    "# Create multi Demensional Arrays\n",
    "\n",
    "ar_zero2=np.zeros((3,4))\n",
    "print(ar_zero2)"
   ]
  },
  {
   "cell_type": "markdown",
   "metadata": {},
   "source": [
    "1.4.2 Array filled with 1s"
   ]
  },
  {
   "cell_type": "code",
   "execution_count": null,
   "metadata": {},
   "outputs": [],
   "source": [
    "import numpy as np\n",
    "\n",
    "ar_one=np.ones((3,4))\n",
    "print(ar_one)"
   ]
  },
  {
   "cell_type": "markdown",
   "metadata": {},
   "source": [
    "1.4.3 Empty Array"
   ]
  },
  {
   "cell_type": "code",
   "execution_count": null,
   "metadata": {},
   "outputs": [],
   "source": [
    "import numpy as np\n",
    "\n",
    "empty=np.empty(4)\n",
    "print(empty)"
   ]
  },
  {
   "cell_type": "markdown",
   "metadata": {},
   "source": [
    "1.4.4 Range Array"
   ]
  },
  {
   "cell_type": "code",
   "execution_count": null,
   "metadata": {},
   "outputs": [],
   "source": [
    "import numpy as np\n",
    "\n",
    "ran_arr=np.arange(4)\n",
    "print(ran_arr)"
   ]
  },
  {
   "cell_type": "markdown",
   "metadata": {},
   "source": [
    "1.4.5 Identity Matrix"
   ]
  },
  {
   "cell_type": "code",
   "execution_count": null,
   "metadata": {},
   "outputs": [],
   "source": [
    "import numpy as np\n",
    "arr_dia=np.eye(3)\n",
    "print(arr_dia)\n",
    "\n",
    "arr_dia2=np.eye(3,5)\n",
    "print(arr_dia2)"
   ]
  },
  {
   "cell_type": "markdown",
   "metadata": {},
   "source": [
    "1.4.6 Linear spaced"
   ]
  },
  {
   "cell_type": "code",
   "execution_count": null,
   "metadata": {},
   "outputs": [],
   "source": [
    "import numpy as np\n",
    "\n",
    "arr_lin=np.linspace(0,10,num=5)\n",
    "print(arr_lin)"
   ]
  },
  {
   "cell_type": "markdown",
   "metadata": {},
   "source": [
    "1.5 Arrays with Random Numbers"
   ]
  },
  {
   "cell_type": "markdown",
   "metadata": {},
   "source": [
    "1.5.1 rand( ) Function"
   ]
  },
  {
   "cell_type": "code",
   "execution_count": null,
   "metadata": {},
   "outputs": [],
   "source": [
    "import numpy as np\n",
    "\n",
    "var=np.random.rand(3,4)\n",
    "print(var)"
   ]
  },
  {
   "cell_type": "markdown",
   "metadata": {},
   "source": [
    "1.5.2 randn( ) function"
   ]
  },
  {
   "cell_type": "code",
   "execution_count": null,
   "metadata": {},
   "outputs": [],
   "source": [
    "import numpy as np\n",
    "\n",
    "var2=np.random.randn(2,3)\n",
    "print(var2)"
   ]
  },
  {
   "cell_type": "markdown",
   "metadata": {},
   "source": [
    "1.5.3 ranf( ) function"
   ]
  },
  {
   "cell_type": "code",
   "execution_count": null,
   "metadata": {},
   "outputs": [],
   "source": [
    "import numpy as np\n",
    "\n",
    "var3=np.random.ranf(4)\n",
    "print(var3)"
   ]
  },
  {
   "cell_type": "markdown",
   "metadata": {},
   "source": [
    "1.5.4 randint( ) function"
   ]
  },
  {
   "cell_type": "code",
   "execution_count": null,
   "metadata": {},
   "outputs": [],
   "source": [
    "import numpy as np\n",
    "\n",
    "var4=np.random.randint(1,10,4)\n",
    "print(var4)"
   ]
  },
  {
   "cell_type": "markdown",
   "metadata": {},
   "source": [
    "1.6 NumPy Array Datatype"
   ]
  },
  {
   "cell_type": "code",
   "execution_count": null,
   "metadata": {},
   "outputs": [],
   "source": [
    "import numpy as np\n",
    "\n",
    "var=np.array([1,2,3,4])\n",
    "print(\"Data Type :\", var.dtype)\n",
    "\n",
    "var2=np.array([1.1,2.5,3.6,4.7])\n",
    "print(\"Data Type :\", var2.dtype)\n",
    "\n",
    "var3=np.array([\"a\",\"b\",\"v\",\"x\"])\n",
    "print(\"Data Type :\", var3.dtype)\n",
    "\n",
    "var4=np.array([\"a\",\"b\",4,4])\n",
    "print(\"Data Type :\", var4.dtype)\n",
    "\n",
    "# To Convert the data types\n",
    "\n",
    "x=np.array([1,2,3,4],dtype=np.int8)\n",
    "print(x)\n",
    "\n",
    "y=np.array([1,2,3,4],dtype='f')\n",
    "print(y)\n",
    "\n",
    "y2=np.string_(y)\n",
    "print(y2.dtype)\n",
    "\n",
    "y3=np.complex_(y)\n",
    "print(y3.dtype)\n",
    "\n",
    "# astype() function\n",
    "\n",
    "y4=y.astype(complex)\n",
    "print(y4.dtype)"
   ]
  },
  {
   "cell_type": "markdown",
   "metadata": {},
   "source": [
    "1.7 Arithmetic operations in 1-D Arrays"
   ]
  },
  {
   "cell_type": "markdown",
   "metadata": {},
   "source": [
    "1.7.1 Addition"
   ]
  },
  {
   "cell_type": "code",
   "execution_count": null,
   "metadata": {},
   "outputs": [],
   "source": [
    "import numpy as np\n",
    "\n",
    "var=np.array([1,2,3,4])\n",
    "var_add=var+3\n",
    "print(var_add)\n",
    "\n",
    "var1=np.array([1,2,3,4])\n",
    "var2=np.array([1,2,3,4])\n",
    "add_var=var1+var2\n",
    "print(add_var)\n",
    "print(np.add(var1,var2))"
   ]
  },
  {
   "cell_type": "markdown",
   "metadata": {},
   "source": [
    "1.7.2 Subtraction"
   ]
  },
  {
   "cell_type": "code",
   "execution_count": null,
   "metadata": {},
   "outputs": [],
   "source": [
    "import numpy as np\n",
    "\n",
    "var=np.array([1,2,3,4])\n",
    "var_sub=var-1\n",
    "print(var_sub)\n",
    "\n",
    "var1=np.array([1,2,3,4])\n",
    "var2=np.array([1,2,3,4])\n",
    "sub_var=var1-var2\n",
    "print(sub_var)\n",
    "print(np.subtract(var1,var2))"
   ]
  },
  {
   "cell_type": "markdown",
   "metadata": {},
   "source": [
    "1.7.3 Multiplication"
   ]
  },
  {
   "cell_type": "code",
   "execution_count": null,
   "metadata": {},
   "outputs": [],
   "source": [
    "import numpy as np\n",
    "\n",
    "var=np.array([1,2,3,4])\n",
    "var_multi=var*3\n",
    "print(var_multi)\n",
    "\n",
    "var1=np.array([1,2,3,4])\n",
    "var2=np.array([1,2,3,4])\n",
    "sub_multi=var1*var2\n",
    "print(sub_multi)\n",
    "print(np.multiply(var1,var2))"
   ]
  },
  {
   "cell_type": "markdown",
   "metadata": {},
   "source": [
    "1.7.4 Division"
   ]
  },
  {
   "cell_type": "code",
   "execution_count": null,
   "metadata": {},
   "outputs": [],
   "source": [
    "import numpy as np\n",
    "\n",
    "var=np.array([1,2,3,4])\n",
    "var_div=var-1\n",
    "print(var_div)\n",
    "\n",
    "var1=np.array([1,2,3,4])\n",
    "var2=np.array([1,2,3,4])\n",
    "div_var=var1/var2\n",
    "print(div_var)\n",
    "print(np.divide(var1,var2))"
   ]
  },
  {
   "cell_type": "markdown",
   "metadata": {},
   "source": [
    "1.7.5 Modulo ( Remainder )"
   ]
  },
  {
   "cell_type": "code",
   "execution_count": null,
   "metadata": {},
   "outputs": [],
   "source": [
    "import numpy as np\n",
    "\n",
    "var=np.array([1,2,3,4])\n",
    "var_mod=var-1\n",
    "print(var_mod)\n",
    "\n",
    "var1=np.array([1,2,3,4])\n",
    "var2=np.array([1,2,3,4])\n",
    "mod_var=var1%var2\n",
    "print(mod_var)\n",
    "print(np.mod(var1,var2))"
   ]
  },
  {
   "cell_type": "markdown",
   "metadata": {},
   "source": [
    "1.7.6 Power"
   ]
  },
  {
   "cell_type": "code",
   "execution_count": null,
   "metadata": {},
   "outputs": [],
   "source": [
    "import numpy as np\n",
    "\n",
    "var=np.array([1,2,3,4])\n",
    "var_power=var-1\n",
    "print(var_power)\n",
    "\n",
    "var1=np.array([1,2,3,4])\n",
    "var2=np.array([1,2,3,4])\n",
    "power_var=var1**var2\n",
    "print(power_var)\n",
    "print(np.power(var1,var2))"
   ]
  },
  {
   "cell_type": "markdown",
   "metadata": {},
   "source": [
    "1.7.7 Reciprocal"
   ]
  },
  {
   "cell_type": "code",
   "execution_count": null,
   "metadata": {},
   "outputs": [],
   "source": [
    "import numpy as np\n",
    "var=np.array([1,2,3,4])\n",
    "print(np.reciprocal(var))"
   ]
  },
  {
   "cell_type": "markdown",
   "metadata": {},
   "source": [
    "1.8 Arithmetic operations in 2-D Arrays"
   ]
  },
  {
   "cell_type": "markdown",
   "metadata": {},
   "source": [
    "1.8.1 Addition"
   ]
  },
  {
   "cell_type": "code",
   "execution_count": null,
   "metadata": {},
   "outputs": [],
   "source": [
    "import numpy as np\n",
    "\n",
    "var1=np.array([[1,2,3],[1,2,3]])\n",
    "var2=np.array([[1,2,3],[1,2,3]])\n",
    "print(var1+var2)\n",
    "print(np.add(var1,var2))\n"
   ]
  },
  {
   "cell_type": "markdown",
   "metadata": {},
   "source": [
    "1.8.2 Subtraction"
   ]
  },
  {
   "cell_type": "code",
   "execution_count": null,
   "metadata": {},
   "outputs": [],
   "source": [
    "import numpy as np\n",
    "\n",
    "var1=np.array([[1,2,3],[1,2,3]])\n",
    "var2=np.array([[1,2,3],[1,2,3]])\n",
    "print(var1-var2)\n",
    "print(np.subtract(var1,var2))\n"
   ]
  },
  {
   "cell_type": "markdown",
   "metadata": {},
   "source": [
    "1.8.3 Multipliaction"
   ]
  },
  {
   "cell_type": "code",
   "execution_count": null,
   "metadata": {},
   "outputs": [],
   "source": [
    "import numpy as np\n",
    "\n",
    "var1=np.array([[1,2,3],[1,2,3]])\n",
    "var2=np.array([[1,2,3],[1,2,3]])\n",
    "print(var1*var2)\n",
    "print(np.multiply(var1,var2))"
   ]
  },
  {
   "cell_type": "markdown",
   "metadata": {},
   "source": [
    "1.8.4 Division"
   ]
  },
  {
   "cell_type": "code",
   "execution_count": null,
   "metadata": {},
   "outputs": [],
   "source": [
    "import numpy as np\n",
    "\n",
    "var1=np.array([[1,2,3],[1,2,3]])\n",
    "var2=np.array([[1,2,3],[1,2,3]])\n",
    "print(var1/var2)\n",
    "print(np.divide(var1,var2))"
   ]
  },
  {
   "cell_type": "markdown",
   "metadata": {},
   "source": [
    "1.8.5 Modulo ( Reminder )"
   ]
  },
  {
   "cell_type": "code",
   "execution_count": null,
   "metadata": {},
   "outputs": [],
   "source": [
    "import numpy as np\n",
    "\n",
    "var1=np.array([[1,2,3],[1,2,3]])\n",
    "var2=np.array([[1,2,3],[1,2,3]])\n",
    "print(var1%var2)\n",
    "print(np.mod(var1,var2))"
   ]
  },
  {
   "cell_type": "markdown",
   "metadata": {},
   "source": [
    "1.8.6 Power"
   ]
  },
  {
   "cell_type": "code",
   "execution_count": null,
   "metadata": {},
   "outputs": [],
   "source": [
    "import numpy as np\n",
    "\n",
    "var1=np.array([[1,2,3],[1,2,3]])\n",
    "var2=np.array([[1,2,3],[1,2,3]])\n",
    "print(var1**var2)\n",
    "print(np.power(var1,var2))"
   ]
  },
  {
   "cell_type": "markdown",
   "metadata": {},
   "source": [
    "1.9 Arithmetic Functions"
   ]
  },
  {
   "cell_type": "markdown",
   "metadata": {},
   "source": [
    "1.9.1 np.min( x ) function"
   ]
  },
  {
   "cell_type": "code",
   "execution_count": null,
   "metadata": {},
   "outputs": [],
   "source": [
    "import numpy as np\n",
    "\n",
    "var=np.array([1,2,3,4,5,3,1])\n",
    "print(np.min(var))\n",
    "\n",
    "var2=np.array([[1,2,3],[9,8,10]])\n",
    "print(np.min(var2,1))\n",
    "print(np.min(var2,0))"
   ]
  },
  {
   "cell_type": "markdown",
   "metadata": {},
   "source": [
    "1.9.2 np.max( x ) Function"
   ]
  },
  {
   "cell_type": "code",
   "execution_count": null,
   "metadata": {},
   "outputs": [],
   "source": [
    "import numpy as np\n",
    "\n",
    "var=np.array([1,2,3,4,5,3,1])\n",
    "print(np.max(var))\n",
    "var2=np.array([[1,2,3],[9,8,10]])\n",
    "print(np.max(var2,0))\n",
    "print(np.max(var2,1))"
   ]
  },
  {
   "cell_type": "markdown",
   "metadata": {},
   "source": [
    "1.9.3 np.argmin( x ) and np.argmax( x ) functions"
   ]
  },
  {
   "cell_type": "code",
   "execution_count": null,
   "metadata": {},
   "outputs": [],
   "source": [
    "import numpy as np\n",
    "\n",
    "var=np.array([1,2,3,4,5,3,1])\n",
    "print(np.argmin(var))\n",
    "print(np.argmax(var))\n",
    "var2=np.array([[1,2,3],[9,8,10]])\n",
    "print(np.argmax(var2,0))\n",
    "print(np.argmax(var2,1))\n",
    "print(np.argmin(var2,1))\n",
    "print(np.argmin(var2,0))"
   ]
  },
  {
   "cell_type": "markdown",
   "metadata": {},
   "source": [
    "1.9.4 sqrt( x ) function "
   ]
  },
  {
   "cell_type": "code",
   "execution_count": null,
   "metadata": {},
   "outputs": [],
   "source": [
    "import numpy as np\n",
    "\n",
    "var=np.array([1,2,3,4,5,3,1])\n",
    "print(np.sqrt(var))"
   ]
  },
  {
   "cell_type": "markdown",
   "metadata": {},
   "source": [
    "1.9.5 sin( x ) and cos( x ) functions"
   ]
  },
  {
   "cell_type": "code",
   "execution_count": null,
   "metadata": {},
   "outputs": [],
   "source": [
    "import numpy as np \n",
    "var2=np.array([1,2,3])\n",
    "print(np.sin(var2))\n",
    "print(np.cos(var2))"
   ]
  },
  {
   "cell_type": "markdown",
   "metadata": {},
   "source": [
    "1.9.6 cumsum( x ) function"
   ]
  },
  {
   "cell_type": "code",
   "execution_count": null,
   "metadata": {},
   "outputs": [],
   "source": [
    "import numpy as np \n",
    "var2=np.array([1,2,3,4])\n",
    "print(np.cumsum(var2))"
   ]
  },
  {
   "cell_type": "markdown",
   "metadata": {},
   "source": [
    "1.10 Shape of NumPy Arrays"
   ]
  },
  {
   "cell_type": "code",
   "execution_count": null,
   "metadata": {},
   "outputs": [],
   "source": [
    "import numpy as np\n",
    "\n",
    "var=np.array([[1,2],[1,2]])\n",
    "print(var)\n",
    "print()\n",
    "print(var.shape)\n",
    "\n",
    "var1=np.array([1,2,3],ndmin=4)\n",
    "print(var1.shape)"
   ]
  },
  {
   "cell_type": "markdown",
   "metadata": {},
   "source": [
    "1.11 Reshaping NumPy Arrays"
   ]
  },
  {
   "cell_type": "code",
   "execution_count": null,
   "metadata": {},
   "outputs": [],
   "source": [
    "import numpy as np\n",
    "\n",
    "var=np.array([1,2,3,4,5,6])\n",
    "x=var.reshape(3,2)\n",
    "print(x)\n",
    "# By default it is converted into 2-D Array\n",
    "\n",
    "# y=var.reshape(3,3)   ---->it will throw you an error as the number of elements you have passed in array is not stisfiable \n",
    "\n",
    "# To Convert into 3-D Array\n",
    "var3=np.array([1,2,3,4,5,6,7,8,9,10,11,12])\n",
    "x3=var3.reshape(2,3,2)\n",
    "print(x3)\n",
    "x2=var3.reshape(2,2,3)\n",
    "print(x2)\n",
    "one=x3.reshape(-1)\n",
    "print(one)"
   ]
  },
  {
   "cell_type": "markdown",
   "metadata": {},
   "source": [
    "1.12 Brodcasting NumPy Arrays"
   ]
  },
  {
   "cell_type": "markdown",
   "metadata": {},
   "source": [
    "When Brodcasting Occurs"
   ]
  },
  {
   "cell_type": "code",
   "execution_count": null,
   "metadata": {},
   "outputs": [],
   "source": [
    "import numpy as np\n",
    "\n",
    "var1=np.array([1,2,3,4])\n",
    "var2=np.array([1,2,3])\n",
    "print(var1+var2)\n"
   ]
  },
  {
   "cell_type": "markdown",
   "metadata": {},
   "source": [
    "Solution for Brodcasting"
   ]
  },
  {
   "cell_type": "code",
   "execution_count": null,
   "metadata": {},
   "outputs": [],
   "source": [
    "import numpy as np\n",
    "\n",
    "var1=np.array([1,2,3])\n",
    "var2=np.array([[1],[2],[3]])\n",
    "print(var1+var2)"
   ]
  },
  {
   "cell_type": "markdown",
   "metadata": {},
   "source": [
    "1.13 Indexing NumPy Arrays"
   ]
  },
  {
   "cell_type": "markdown",
   "metadata": {},
   "source": [
    "1.13.1 One-D Arrays"
   ]
  },
  {
   "cell_type": "code",
   "execution_count": null,
   "metadata": {},
   "outputs": [],
   "source": [
    "import numpy as np\n",
    "\n",
    "var=np.array([9,8,7,6])\n",
    "print(var[1])\n",
    "print(var[-2])"
   ]
  },
  {
   "cell_type": "markdown",
   "metadata": {},
   "source": [
    "1.13.2 Two-D Arrays"
   ]
  },
  {
   "cell_type": "code",
   "execution_count": null,
   "metadata": {},
   "outputs": [],
   "source": [
    "import numpy as np\n",
    "var=np.array([[9,8,7],[6,5,4]])\n",
    "print(var[0,1])\n",
    "print(var[1,2])"
   ]
  },
  {
   "cell_type": "markdown",
   "metadata": {},
   "source": [
    "1.13.3 Three-D Arrays"
   ]
  },
  {
   "cell_type": "code",
   "execution_count": null,
   "metadata": {},
   "outputs": [],
   "source": [
    "import numpy as np\n",
    "\n",
    "var=np.array([[[1,2,3],[4,5,6]],[[7,8,9],[1,2,3]]])\n",
    "print(var[0,0,1])\n",
    "print(var[0,1,0])\n",
    "print(var[1,0,1])\n",
    "print(var[1,1,2])"
   ]
  },
  {
   "cell_type": "markdown",
   "metadata": {},
   "source": [
    "1.14 Slicing NumPy Array"
   ]
  },
  {
   "cell_type": "markdown",
   "metadata": {},
   "source": [
    "1.14.1 One-D Arrays"
   ]
  },
  {
   "cell_type": "code",
   "execution_count": null,
   "metadata": {},
   "outputs": [],
   "source": [
    "import numpy as np\n",
    "\n",
    "var=np.array([1,2,3,4])\n",
    "print(var[1::2])\n",
    "print(var[::2])\n",
    "print(var[-4:-2])\n",
    "\n",
    "# ODD And EVEN Numbers\n",
    "num=np.array([1,2,3,4,5,6,7,8,9,10])\n",
    "odd=num[::2]\n",
    "even=num[1::2]\n",
    "print(\"ODD Numbers  : \",odd)\n",
    "print(\"EVEN Numbers : \",even)\n",
    "\n",
    "# For Reversing\n",
    "print(num[::-1])"
   ]
  },
  {
   "cell_type": "markdown",
   "metadata": {},
   "source": [
    "1.14.2 Two-D Arrays"
   ]
  },
  {
   "cell_type": "code",
   "execution_count": null,
   "metadata": {},
   "outputs": [],
   "source": [
    "import numpy as np\n",
    "var=np.array([[1,2,3,4],[5,6,7,8]])\n",
    "print(var[0,0:2])\n",
    "print(var[1,1:3])\n",
    "print(var[0,::2])\n",
    "print(var[1,::2])\n",
    "print(var[1])"
   ]
  },
  {
   "cell_type": "markdown",
   "metadata": {},
   "source": [
    "1.14.3 Three-D Arrays"
   ]
  },
  {
   "cell_type": "code",
   "execution_count": null,
   "metadata": {},
   "outputs": [],
   "source": [
    "import numpy as np\n",
    "var=np.array([[[1,2,3],[4,5,6]],[[7,8,9],[1,2,3]]])\n",
    "print(var[0,1::])\n",
    "print(var[1,0::])"
   ]
  },
  {
   "cell_type": "markdown",
   "metadata": {},
   "source": [
    "1.15 Iterating NumPy Arrays"
   ]
  },
  {
   "cell_type": "markdown",
   "metadata": {},
   "source": [
    "Using for loop"
   ]
  },
  {
   "cell_type": "code",
   "execution_count": null,
   "metadata": {},
   "outputs": [],
   "source": [
    "import numpy as np\n",
    "\n",
    "# 1-D Array\n",
    "var=np.array([1,2,3,4,5,6])\n",
    "for i in var:\n",
    "    print(i)\n",
    "\n",
    "# 2-D Array\n",
    "\n",
    "var1=np.array([[1,2,3,4],[5,6,7,8]])\n",
    "for j in var1:\n",
    "    print(j)\n",
    "\n",
    "for k in var1:\n",
    "    for l in k:\n",
    "        print(l)\n",
    "\n",
    "# 3-D Array\n",
    "var3=np.array([[[1,2,3],[4,5,6]],[[7,8,9],[1,2,3]]])\n",
    "for i in var3:\n",
    "    for j in i:\n",
    "        for k in j:\n",
    "            print(k)\n",
    "\n",
    "            "
   ]
  },
  {
   "cell_type": "markdown",
   "metadata": {},
   "source": [
    "Using nditer( ) function"
   ]
  },
  {
   "cell_type": "code",
   "execution_count": null,
   "metadata": {},
   "outputs": [],
   "source": [
    "import numpy as np\n",
    "var3=np.array([[[1,2,3],[4,5,6]],[[7,8,9],[1,2,3]]])\n",
    "\n",
    "for i in np.nditer(var3):\n",
    "    print(i)\n",
    "\n",
    "for j in np.nditer(var3,flags=['buffered'],op_dtypes=[\"S\"]):\n",
    "    print(j) \n",
    "\n",
    "for i,d in np.ndenumerate(var3):\n",
    "    print(i,d)"
   ]
  },
  {
   "cell_type": "markdown",
   "metadata": {},
   "source": [
    "1.16 Copy( ) functions"
   ]
  },
  {
   "cell_type": "code",
   "execution_count": null,
   "metadata": {},
   "outputs": [],
   "source": [
    "import numpy as np\n",
    "\n",
    "var=np.array([1,2,3,4])\n",
    "co=var.copy()\n",
    "\n",
    "print(var)\n",
    "print(co)\n",
    "\n",
    "var[1]=40\n",
    "print(var)\n",
    "print(co)"
   ]
  },
  {
   "cell_type": "markdown",
   "metadata": {},
   "source": [
    "1.17 view( ) function"
   ]
  },
  {
   "cell_type": "code",
   "execution_count": null,
   "metadata": {},
   "outputs": [],
   "source": [
    "import numpy as np\n",
    "\n",
    "var=np.array([1,2,3,4])\n",
    "vi=var.view()\n",
    "\n",
    "print(var)\n",
    "print(vi)\n",
    "\n",
    "var[1]=40\n",
    "print(var)\n",
    "print(vi)"
   ]
  },
  {
   "cell_type": "markdown",
   "metadata": {},
   "source": [
    "1.18 Join Array"
   ]
  },
  {
   "cell_type": "code",
   "execution_count": null,
   "metadata": {},
   "outputs": [],
   "source": [
    "import numpy as np\n",
    "\n",
    "# 1-D Arrays\n",
    "var1=np.array([1,2,3,4])\n",
    "var2=np.array([5,6,7,8])\n",
    "\n",
    "ar1=np.concatenate((var1,var2))\n",
    "\n",
    "print(ar1)\n",
    "\n",
    "# 2-D Arrays \n",
    "\n",
    "var3=np.array([[1,2],[3,4]])\n",
    "var4=np.array([[5,6],[7,8]])\n",
    "\n",
    "ar2=np.concatenate((var3,var4),axis=1)\n",
    "print(ar2)\n",
    "ar2=np.concatenate((var3,var4),axis=0)\n",
    "print(ar2)\n"
   ]
  },
  {
   "cell_type": "markdown",
   "metadata": {},
   "source": [
    "1.19 Stack method\n"
   ]
  },
  {
   "cell_type": "code",
   "execution_count": null,
   "metadata": {},
   "outputs": [],
   "source": [
    "import numpy as np\n",
    "\n",
    "var1=np.array([1,2,3,4])\n",
    "var2=np.array([5,6,7,8])\n",
    "\n",
    "ar1=np.hstack((var1,var2))\n",
    "print(ar1)\n",
    "ar1=np.vstack((var1,var2))      #Default\n",
    "print(ar1)\n",
    "ar1=np.dstack((var1,var2))\n",
    "print(ar1)"
   ]
  },
  {
   "cell_type": "markdown",
   "metadata": {},
   "source": [
    "1.20 Split Array"
   ]
  },
  {
   "cell_type": "code",
   "execution_count": null,
   "metadata": {},
   "outputs": [],
   "source": [
    "import numpy as np\n",
    "\n",
    "# 1-D Arrays\n",
    "var1=np.array([1,2,3,4])\n",
    "\n",
    "ar=np.array_split(var1,2)\n",
    "print(ar)\n",
    "print(type(ar))\n",
    "\n",
    "# 2-D Arrays\n",
    "var2=np.array([[1,2],[3,4]])\n",
    "ar2=np.array_split(var2,2)\n",
    "print(ar2)\n",
    "# splittng along axeses\n",
    "ar2=np.array_split(var2,2,axis=1)\n",
    "print(ar2)"
   ]
  },
  {
   "cell_type": "markdown",
   "metadata": {},
   "source": [
    "1.21 Search Array"
   ]
  },
  {
   "cell_type": "code",
   "execution_count": null,
   "metadata": {},
   "outputs": [],
   "source": [
    "import numpy as np\n",
    "\n",
    "var=np.array([1,2,3,4,5,2,5,6,7])\n",
    "\n",
    "x=np.where(var==2)\n",
    "print(x)\n",
    "\n",
    "y=np.where(var%2==0)\n",
    "print(y)\n"
   ]
  },
  {
   "cell_type": "markdown",
   "metadata": {},
   "source": [
    "1.22 Search Sorted Array"
   ]
  },
  {
   "cell_type": "code",
   "execution_count": null,
   "metadata": {},
   "outputs": [],
   "source": [
    "import numpy as np\n",
    "var=np.array([1,2,3,4,6,7,8])\n",
    "\n",
    "x=np.searchsorted(var,5)\n",
    "print(x)\n",
    "\n",
    "x1=np.searchsorted(var,5,side=\"right\")\n",
    "print(x1)\n"
   ]
  },
  {
   "cell_type": "markdown",
   "metadata": {},
   "source": [
    "1.23 Sort Array"
   ]
  },
  {
   "cell_type": "code",
   "execution_count": null,
   "metadata": {},
   "outputs": [],
   "source": [
    "import numpy as np\n",
    "var=np.array([1,3,6,2,5,7,9,8])\n",
    "sorted=np.sort(var)\n",
    "print(sorted)\n",
    "\n",
    "var1=np.array(['a','e','b','f'])\n",
    "print(np.sort(var1))\n",
    "\n",
    "var2=np.array([[1,3],[6,4]])\n",
    "print(np.sort(var2))"
   ]
  },
  {
   "cell_type": "markdown",
   "metadata": {},
   "source": [
    "1.24 Filter Array"
   ]
  },
  {
   "cell_type": "code",
   "execution_count": null,
   "metadata": {},
   "outputs": [],
   "source": [
    "import numpy as np\n",
    "var1=np.array(['a','e','b','f'])\n",
    "f=[True,False,False,True]\n",
    "new=var1[f]\n",
    "print(new)"
   ]
  },
  {
   "cell_type": "markdown",
   "metadata": {},
   "source": [
    "1.25 NumPy Array Functions"
   ]
  },
  {
   "cell_type": "markdown",
   "metadata": {},
   "source": [
    "1.25.1 Arithmetic Functions"
   ]
  },
  {
   "cell_type": "markdown",
   "metadata": {},
   "source": [
    "( i ) Shuffle"
   ]
  },
  {
   "cell_type": "code",
   "execution_count": null,
   "metadata": {},
   "outputs": [],
   "source": [
    "import numpy as np\n",
    "\n",
    "var=np.array([1,2,3,4,5])\n",
    "np.random.shuffle(var)\n",
    "print(var)"
   ]
  },
  {
   "cell_type": "markdown",
   "metadata": {},
   "source": [
    "( ii ) Unique"
   ]
  },
  {
   "cell_type": "code",
   "execution_count": null,
   "metadata": {},
   "outputs": [],
   "source": [
    "import numpy as np\n",
    "\n",
    "var=np.array([1,2,3,4,2,5,2,6,2,7])\n",
    "x=np.unique(var)\n",
    "print(x)\n",
    "x1=np.unique(var,return_index=True)\n",
    "print(x1)"
   ]
  },
  {
   "cell_type": "markdown",
   "metadata": {},
   "source": [
    "( iii ) Resize"
   ]
  },
  {
   "cell_type": "code",
   "execution_count": null,
   "metadata": {},
   "outputs": [],
   "source": [
    "import numpy as np\n",
    "\n",
    "var=np.array([1,2,3,4,5,6])\n",
    "x=np.resize(var,(2,3))\n",
    "print(x)"
   ]
  },
  {
   "cell_type": "markdown",
   "metadata": {},
   "source": [
    "( iv ) Flatten"
   ]
  },
  {
   "cell_type": "code",
   "execution_count": null,
   "metadata": {},
   "outputs": [],
   "source": [
    "var=np.array([[1,2,3],[4,5,6]])\n",
    "print(var.flatten())\n",
    "print(var.flatten(order='F'))"
   ]
  },
  {
   "cell_type": "markdown",
   "metadata": {},
   "source": [
    "( v ) Ravel"
   ]
  },
  {
   "cell_type": "code",
   "execution_count": null,
   "metadata": {},
   "outputs": [],
   "source": [
    "var=np.array([[1,2,3],[4,5,6]])\n",
    "print(var.ravel())"
   ]
  },
  {
   "cell_type": "markdown",
   "metadata": {},
   "source": [
    "1.26 Insert Data"
   ]
  },
  {
   "cell_type": "code",
   "execution_count": null,
   "metadata": {},
   "outputs": [],
   "source": [
    "import numpy as np\n",
    "\n",
    "var=np.array([1,2,3,4])\n",
    "x=np.insert(var,2,40)\n",
    "print(x)\n",
    "x2=np.insert(var,(2,4),40)\n",
    "print(x2)\n",
    "\n",
    "var1=np.array([[1,2,3],[4,5,6]])\n",
    "x=np.insert(var1,2,6,axis=0) \n",
    "print(x)\n",
    "x=np.insert(var1,2,6,axis=1) \n",
    "print(x)\n",
    "x=np.insert(var1,2,[6,7],axis=1) \n",
    "print(x)"
   ]
  },
  {
   "cell_type": "markdown",
   "metadata": {},
   "source": [
    "1.27 Append Data"
   ]
  },
  {
   "cell_type": "code",
   "execution_count": null,
   "metadata": {},
   "outputs": [],
   "source": [
    "import numpy as np\n",
    "\n",
    "var=np.array([1,2,3,4])\n",
    "x=np.append(var,2)\n",
    "print(x)\n",
    "x2=np.append(var,(2,4))\n",
    "print(x2)\n",
    "\n",
    "var1=np.array([[1,2,3],[4,5,6]])\n",
    "x=np.append(var1,[[1,2,3]],axis=0) \n",
    "print(x)\n",
    "y=np.append(var1,[[1],[2]],axis=1) \n",
    "print(y)"
   ]
  },
  {
   "cell_type": "markdown",
   "metadata": {},
   "source": [
    "1.28 Deleate Data"
   ]
  },
  {
   "cell_type": "code",
   "execution_count": null,
   "metadata": {},
   "outputs": [],
   "source": [
    "import numpy as np\n",
    "\n",
    "var=np.array([1,2,3,4])\n",
    "x=np.delete(var,2)\n",
    "print(x)"
   ]
  },
  {
   "cell_type": "markdown",
   "metadata": {},
   "source": [
    "1.29 Matrix in NumPy Arrays"
   ]
  },
  {
   "cell_type": "markdown",
   "metadata": {},
   "source": [
    "1.29.1 Creating Matrix"
   ]
  },
  {
   "cell_type": "code",
   "execution_count": null,
   "metadata": {},
   "outputs": [],
   "source": [
    "import numpy as np\n",
    "\n",
    "# var=np.array([[1,2,3],[1,2,3]])\n",
    "# print(var)\n",
    "var=np.matrix([[1,2,3],[1,2,3]])\n",
    "print(var)\n",
    "print(type(var))"
   ]
  },
  {
   "cell_type": "markdown",
   "metadata": {},
   "source": [
    "1.29.2 Arithmetic Operations"
   ]
  },
  {
   "cell_type": "code",
   "execution_count": null,
   "metadata": {},
   "outputs": [],
   "source": [
    "import numpy as np\n",
    "\n",
    "var1=np.matrix([[1,2,3],[1,2,3]])\n",
    "var2=np.matrix([[1,2,3],[1,2,3]])\n",
    "\n",
    "# Addition\n",
    "print(var1+var2)\n",
    "print()\n",
    "\n",
    "# Subtraction\n",
    "print(var1-var2)\n",
    "print()\n",
    "\n",
    "# Multiplication\n",
    "var3=np.matrix([[1,2,3],[4,5,6]])\n",
    "var4=np.matrix([[1,2],[3,4],[5,6]])\n",
    "print(var3.dot(var4))\n",
    "print()\n",
    "print(var3*var4)"
   ]
  },
  {
   "cell_type": "markdown",
   "metadata": {},
   "source": [
    "1.30 Matrix Functions in NumPy Arrays"
   ]
  },
  {
   "cell_type": "code",
   "execution_count": null,
   "metadata": {},
   "outputs": [],
   "source": [
    "import numpy as np\n",
    "var=np.matrix([[1,2,3],[1,2,3]])\n",
    "\n",
    "# Transpose\n",
    "trns=np.transpose(var)\n",
    "print(trns)\n",
    "print(var.T)\n",
    "\n",
    "# Swapaxes\n",
    "print(np.swapaxes(var,0,1))\n",
    "\n",
    "# inverse \n",
    "var2=np.matrix([[1,2],[3,4]])\n",
    "print(np.linalg.inv(var2))\n",
    "\n",
    "# Power\n",
    "print(np.linalg.matrix_power(var2,2))\n",
    "print(np.linalg.matrix_power(var2,0))\n",
    "print(np.linalg.matrix_power(var2,-1))\n",
    "\n",
    "# Determinant\n",
    "print(np.linalg.det(var2))"
   ]
  }
 ],
 "metadata": {
  "kernelspec": {
   "display_name": "Python 3",
   "language": "python",
   "name": "python3"
  },
  "language_info": {
   "codemirror_mode": {
    "name": "ipython",
    "version": 3
   },
   "file_extension": ".py",
   "mimetype": "text/x-python",
   "name": "python",
   "nbconvert_exporter": "python",
   "pygments_lexer": "ipython3",
   "version": "3.12.4"
  }
 },
 "nbformat": 4,
 "nbformat_minor": 2
}
