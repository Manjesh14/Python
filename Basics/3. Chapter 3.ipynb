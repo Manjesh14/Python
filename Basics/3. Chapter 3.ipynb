{
 "cells": [
  {
   "cell_type": "markdown",
   "metadata": {},
   "source": [
    "3. Chapter 3"
   ]
  },
  {
   "cell_type": "markdown",
   "metadata": {},
   "source": [
    "3.1 Implicit Type Conversion"
   ]
  },
  {
   "cell_type": "code",
   "execution_count": null,
   "metadata": {},
   "outputs": [],
   "source": [
    "print(5+10.5)\n",
    "\n",
    "print(10/5)  #Always float"
   ]
  },
  {
   "cell_type": "markdown",
   "metadata": {},
   "source": [
    "3.2 Explicit Type Conversion"
   ]
  },
  {
   "cell_type": "code",
   "execution_count": null,
   "metadata": {},
   "outputs": [],
   "source": [
    "# using int()\n",
    "x='110'\n",
    "print(type(x))\n",
    "x=int(x)\n",
    "print(type(x))\n",
    "y='10'\n",
    "print(int(y,2))  #Binary\n",
    "\n",
    "# using float()\n",
    "x1=78\n",
    "print(type(x1))\n",
    "x1=float(x1)\n",
    "print(type(x1))\n",
    "print(float(0078.12))\n",
    "\n",
    "# using str()\n",
    "x1=str(x1)\n",
    "print(type(x1))"
   ]
  }
 ],
 "metadata": {
  "kernelspec": {
   "display_name": "Python 3",
   "language": "python",
   "name": "python3"
  },
  "language_info": {
   "codemirror_mode": {
    "name": "ipython",
    "version": 3
   },
   "file_extension": ".py",
   "mimetype": "text/x-python",
   "name": "python",
   "nbconvert_exporter": "python",
   "pygments_lexer": "ipython3",
   "version": "3.12.4"
  }
 },
 "nbformat": 4,
 "nbformat_minor": 2
}
