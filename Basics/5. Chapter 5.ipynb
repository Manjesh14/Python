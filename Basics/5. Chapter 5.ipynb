{
 "cells": [
  {
   "cell_type": "markdown",
   "metadata": {},
   "source": [
    "5. Chapter 5"
   ]
  },
  {
   "cell_type": "markdown",
   "metadata": {},
   "source": [
    "5.1 Expression in Python"
   ]
  },
  {
   "cell_type": "code",
   "execution_count": null,
   "metadata": {},
   "outputs": [],
   "source": [
    "x=10\n",
    "print(x+3)\n",
    "\n",
    "# Constant Expressions\n",
    "print(30+20)\n",
    "\n",
    "# Arithmetic Expressions\n",
    "print(x*3)\n",
    "\n",
    "# Integral Expressions\n",
    "y=7.28\n",
    "res=x+int(y)\n",
    "print(res)\n",
    "\n",
    "# Floating point Expressions\n",
    "a=10\n",
    "b=15.0\n",
    "print(a+b)\n",
    "c=2\n",
    "print(a/c)\n",
    "\n",
    "# Relational Expressions\n",
    "print((10+13)<=(2+3))\n",
    "\n",
    "# Logical Expressions\n",
    "print((10<13) and (1==1))\n",
    "\n",
    "# Bitwise Expressions\n",
    "print(10<<2)\n",
    "\n",
    "# Combinational Expressions\n",
    "\n",
    "x=10\n",
    "y=20\n",
    "z=y+(x<<1)-x*3\n",
    "print(z)"
   ]
  },
  {
   "cell_type": "markdown",
   "metadata": {},
   "source": [
    "5.2 Statements in Python"
   ]
  },
  {
   "cell_type": "code",
   "execution_count": null,
   "metadata": {},
   "outputs": [],
   "source": [
    "name=\"manjesh\"  # it is a statement\n",
    "print(name)     # it is a statement\n",
    "\n",
    "x=10            # it is a statement\n",
    "x=x+3           # it is a statement\n",
    "                # But x+3 is an expression as it give a value\n",
    "\n",
    "# Multiline Statements\n",
    "x=10+20+30+\\\n",
    "    40+50+60+70+\\\n",
    "    80+90+100\n",
    "print(x)\n",
    "\n",
    "y=(10+20+30+\n",
    "    40+50+60+70+\n",
    "    80+90+100)\n",
    "print(y)"
   ]
  },
  {
   "cell_type": "markdown",
   "metadata": {},
   "source": [
    "5.3 Comments"
   ]
  },
  {
   "cell_type": "code",
   "execution_count": null,
   "metadata": {},
   "outputs": [],
   "source": [
    "# Declare and initialize the variable\n",
    "x=10\n",
    "y=20\n",
    "# print the result as x+y\n",
    "print(x+y)      # Prints thr Result\n",
    "\n",
    "# Multi line Comment\n",
    "#Python is a fantastic language\n",
    "# I like to use it\n",
    "'''Python is a fantastic language\n",
    " I like to use it'''"
   ]
  }
 ],
 "metadata": {
  "language_info": {
   "name": "python"
  }
 },
 "nbformat": 4,
 "nbformat_minor": 2
}
