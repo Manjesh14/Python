{
 "cells": [
  {
   "cell_type": "markdown",
   "metadata": {},
   "source": [
    "6. Input Method"
   ]
  },
  {
   "cell_type": "code",
   "execution_count": 2,
   "metadata": {},
   "outputs": [
    {
     "name": "stdout",
     "output_type": "stream",
     "text": [
      "Manjesh\n",
      "1\n",
      "1\n",
      "1\n"
     ]
    }
   ],
   "source": [
    "name=input()\n",
    "print(name)\n",
    "\n",
    "num=input(\"Enter the number : \")\n",
    "print(num)\n",
    "\n",
    "#Typecasting the user input\n",
    "num2=int(input(\"Enter the number : \"))\n",
    "print(num2)\n",
    "print(int(num))"
   ]
  }
 ],
 "metadata": {
  "kernelspec": {
   "display_name": "Python 3",
   "language": "python",
   "name": "python3"
  },
  "language_info": {
   "codemirror_mode": {
    "name": "ipython",
    "version": 3
   },
   "file_extension": ".py",
   "mimetype": "text/x-python",
   "name": "python",
   "nbconvert_exporter": "python",
   "pygments_lexer": "ipython3",
   "version": "3.12.4"
  }
 },
 "nbformat": 4,
 "nbformat_minor": 2
}
