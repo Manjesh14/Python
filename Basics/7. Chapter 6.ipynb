{
 "cells": [
  {
   "cell_type": "markdown",
   "metadata": {},
   "source": [
    "6. Chapter 6"
   ]
  },
  {
   "cell_type": "markdown",
   "metadata": {},
   "source": [
    "6. Lists\n",
    "\n",
    "            Lists are one of the types of Data Structure"
   ]
  },
  {
   "cell_type": "markdown",
   "metadata": {},
   "source": [
    "6.1 Creating List"
   ]
  },
  {
   "cell_type": "code",
   "execution_count": 2,
   "metadata": {},
   "outputs": [],
   "source": [
    "num=[1,2,3,4,5,6,7,8,9,10]\n",
    "emp=[]\n",
    "items=[1,2,'A',\"go\",3.14]\n",
    "num1=[1,2,2,3,3,3,4,4,4,4]"
   ]
  },
  {
   "cell_type": "markdown",
   "metadata": {},
   "source": [
    "6.2 Accessing Elements"
   ]
  },
  {
   "cell_type": "markdown",
   "metadata": {},
   "source": [
    "6.2.1 Accessing the element of single dimensional Lists"
   ]
  },
  {
   "cell_type": "code",
   "execution_count": null,
   "metadata": {},
   "outputs": [],
   "source": [
    "num=[5,10,15,20]\n",
    "print(num[0])\n",
    "print(num[1])\n",
    "print(num[2])\n",
    "print(num[len(num)-1])\n",
    "print(num[-2])\n",
    "print(num[-(len(num))])"
   ]
  },
  {
   "cell_type": "markdown",
   "metadata": {},
   "source": [
    "6.2.2 Accessing the element of multidimensional Lists"
   ]
  },
  {
   "cell_type": "code",
   "execution_count": null,
   "metadata": {},
   "outputs": [],
   "source": [
    "my_list=[[1,2,3],\"Neso\",[4,5,6]]\n",
    "print(my_list[0][0])\n",
    "print(my_list[1])\n",
    "print(my_list[2][1])"
   ]
  },
  {
   "cell_type": "markdown",
   "metadata": {},
   "source": [
    "6.3 Adding elements to list"
   ]
  },
  {
   "cell_type": "markdown",
   "metadata": {},
   "source": [
    "6.3.1 append( ) Method"
   ]
  },
  {
   "cell_type": "code",
   "execution_count": null,
   "metadata": {},
   "outputs": [],
   "source": [
    "lang=[\"c\",\"c++\",\"Java\"]\n",
    "print(lang)\n",
    "lang.append(\"python\")\n",
    "print(lang)\n",
    "lang.append(\"ruby\")\n",
    "lang.append(\"Java script\")\n",
    "lang.append(\"php\")\n",
    "print(lang)\n",
    "lang.append([\"css\",\"C#\"])\n",
    "print(lang)"
   ]
  },
  {
   "cell_type": "markdown",
   "metadata": {},
   "source": [
    "6.3.2 insert( ) Method"
   ]
  },
  {
   "cell_type": "code",
   "execution_count": 6,
   "metadata": {},
   "outputs": [],
   "source": [
    "lang2=[\"c\",\"c++\",\"Java\"]\n",
    "lang2.insert(0,\"Python\")"
   ]
  },
  {
   "cell_type": "markdown",
   "metadata": {},
   "source": [
    "6.3.3 extend( ) method"
   ]
  },
  {
   "cell_type": "code",
   "execution_count": null,
   "metadata": {},
   "outputs": [],
   "source": [
    "lang3=[\"c\",\"c++\",\"Java\"]\n",
    "more_lan=[\"Python\", \"JS\"]\n",
    "lang3.extend(more_lan)\n",
    "print(lang3)"
   ]
  },
  {
   "cell_type": "markdown",
   "metadata": {},
   "source": [
    "6.4 Inputting a list"
   ]
  },
  {
   "cell_type": "markdown",
   "metadata": {},
   "source": [
    "6.4.1 Problem in inputting a list"
   ]
  },
  {
   "cell_type": "code",
   "execution_count": null,
   "metadata": {},
   "outputs": [],
   "source": [
    "numbers=input(\"Enter the list of numbers\")\n",
    "print(numbers)"
   ]
  },
  {
   "cell_type": "markdown",
   "metadata": {},
   "source": [
    "6.4.2 Taking input using loops"
   ]
  },
  {
   "cell_type": "code",
   "execution_count": null,
   "metadata": {},
   "outputs": [],
   "source": [
    "n=int(input(\"Enter the number of elements : \"))\n",
    "num=[]\n",
    "for i in range(n):\n",
    "    x=int(input())\n",
    "    num.append(x)\n",
    "print(num)"
   ]
  },
  {
   "cell_type": "markdown",
   "metadata": {},
   "source": [
    "6.4.3 Taking input using split( ) Method"
   ]
  },
  {
   "cell_type": "code",
   "execution_count": null,
   "metadata": {},
   "outputs": [],
   "source": [
    "num2=input(\"Enter the elements of the list : \")\n",
    "num2=num2.split()\n",
    "print(num2)"
   ]
  },
  {
   "cell_type": "markdown",
   "metadata": {},
   "source": [
    "6.4.4 Taking input using split() and for loop Method"
   ]
  },
  {
   "cell_type": "code",
   "execution_count": null,
   "metadata": {},
   "outputs": [],
   "source": [
    "n2=int(input(\"Enter the number of elements : \"))\n",
    "num3=input(\"Enter the elements of the list : \")\n",
    "num3=num3.split()\n",
    "for i in range(0,n2):\n",
    "    num3[i]=int(num3[i])\n",
    "print(num3)"
   ]
  },
  {
   "cell_type": "markdown",
   "metadata": {},
   "source": [
    "6.5 Changing List Items"
   ]
  },
  {
   "cell_type": "code",
   "execution_count": null,
   "metadata": {},
   "outputs": [],
   "source": [
    "#Single item\n",
    "num=[1,2,3,4,5,6]\n",
    "num[2]=\"Manjesh\"\n",
    "print(num)\n",
    "\n",
    "# Multiple items\n",
    "num[2:4]=[\"man\",\"Ram\",\"raj\"]\n",
    "print(num)\n",
    "\n",
    "# insert() method\n",
    "num.insert(3,\"raju\")\n",
    "print(num)"
   ]
  },
  {
   "cell_type": "markdown",
   "metadata": {},
   "source": [
    "6.6 removing List Items"
   ]
  },
  {
   "cell_type": "markdown",
   "metadata": {},
   "source": [
    "6.6.1 remove( ) Method"
   ]
  },
  {
   "cell_type": "code",
   "execution_count": null,
   "metadata": {},
   "outputs": [],
   "source": [
    "li=[\"Man\",\"Ram\",\"Raj\"]\n",
    "li.remove(\"Raj\")\n",
    "print(li)\n"
   ]
  },
  {
   "cell_type": "markdown",
   "metadata": {},
   "source": [
    "6.6.2 pop( ) Method"
   ]
  },
  {
   "cell_type": "code",
   "execution_count": null,
   "metadata": {},
   "outputs": [],
   "source": [
    "li=[\"Man\",\"Ram\",\"Raj\"]\n",
    "a=li.pop(1)\n",
    "print(a)\n",
    "print(li)"
   ]
  },
  {
   "cell_type": "markdown",
   "metadata": {},
   "source": [
    "6.6.3  del keyword"
   ]
  },
  {
   "cell_type": "code",
   "execution_count": null,
   "metadata": {},
   "outputs": [],
   "source": [
    "li2=[\"Man\",\"Ram\",\"Raj\"]\n",
    "del li2[2]\n",
    "print(li2)\n",
    "del li2\n",
    "# print(li2)"
   ]
  },
  {
   "cell_type": "markdown",
   "metadata": {},
   "source": [
    "6.6.4 clear( ) Method"
   ]
  },
  {
   "cell_type": "code",
   "execution_count": null,
   "metadata": {},
   "outputs": [],
   "source": [
    "li=[\"Man\",\"Ram\",\"Raj\"]\n",
    "li.clear()\n",
    "print(li)"
   ]
  },
  {
   "cell_type": "markdown",
   "metadata": {},
   "source": [
    "6.7 List Comprehensions"
   ]
  },
  {
   "cell_type": "markdown",
   "metadata": {},
   "source": [
    "6.7.1 Trditional Method"
   ]
  },
  {
   "cell_type": "code",
   "execution_count": null,
   "metadata": {},
   "outputs": [],
   "source": [
    "names=[\"John\",\"James\",\"Emmy\",\"Michel\",\"Jimmy\"]\n",
    "j_names=[]\n",
    "for name in names:\n",
    "    if \"J\" in name:\n",
    "        j_names.append(name)\n",
    "print(j_names)\n"
   ]
  },
  {
   "cell_type": "markdown",
   "metadata": {},
   "source": [
    "6.7.2 By List Comprehension"
   ]
  },
  {
   "cell_type": "code",
   "execution_count": null,
   "metadata": {},
   "outputs": [],
   "source": [
    "J_names=[name for name in names if \"J\" in name]\n",
    "print(J_names)\n",
    "\n",
    "# To get copy by list Comprehension\n",
    "num=[1,2,3,4]\n",
    "num2=[value for value in num ]\n",
    "print(num2)"
   ]
  },
  {
   "cell_type": "markdown",
   "metadata": {},
   "source": [
    "6.7.3 Question: Make a list of animals in small letters and return list with the names of animals Capitalised(only first letter)"
   ]
  },
  {
   "cell_type": "code",
   "execution_count": null,
   "metadata": {},
   "outputs": [],
   "source": [
    "# Traditional Method\n",
    "animals=['lion','tiger','monkey','elephant','frog']\n",
    "flittered_animals=[]\n",
    "for animal in animals:\n",
    "    flittered_animals.append(animal.title())\n",
    "print(flittered_animals)\n",
    "\n",
    "# By comprehension\n",
    "flittered_animals2=[animal.title() for animal in animals ]\n",
    "print(flittered_animals2)"
   ]
  }
 ],
 "metadata": {
  "kernelspec": {
   "display_name": "Python 3",
   "language": "python",
   "name": "python3"
  },
  "language_info": {
   "codemirror_mode": {
    "name": "ipython",
    "version": 3
   },
   "file_extension": ".py",
   "mimetype": "text/x-python",
   "name": "python",
   "nbconvert_exporter": "python",
   "pygments_lexer": "ipython3",
   "version": "3.12.4"
  }
 },
 "nbformat": 4,
 "nbformat_minor": 2
}
