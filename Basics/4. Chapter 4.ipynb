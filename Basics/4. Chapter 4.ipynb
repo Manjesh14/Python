{
 "cells": [
  {
   "cell_type": "markdown",
   "metadata": {},
   "source": [
    "4. Chapter 4"
   ]
  },
  {
   "cell_type": "markdown",
   "metadata": {},
   "source": [
    "Operators"
   ]
  },
  {
   "cell_type": "markdown",
   "metadata": {},
   "source": [
    "4.1 Arithmetic Operators"
   ]
  },
  {
   "cell_type": "code",
   "execution_count": null,
   "metadata": {},
   "outputs": [],
   "source": [
    "# Unary Plus(+)\n",
    "x=-10\n",
    "y=+(x)\n",
    "print(y)\n",
    "\n",
    "# Addition(+)\n",
    "print(2+4)\n",
    "\n",
    "# Unary minus(-)\n",
    "y=-(x)\n",
    "print(y)\n",
    "\n",
    "#ssubtrction(-)\n",
    "print(2-4)\n",
    "\n",
    "# Multiplication(*)\n",
    "print(2*3)\n",
    "print(x*y)\n",
    "\n",
    "# Division(/)\n",
    "print(20/10)\n",
    "print(x/y)\n",
    "\n",
    "#Floor Division (//)\n",
    "print(5//2)\n",
    "print(x//y)\n",
    "\n",
    "#modulous (%)\n",
    "print(5%2)\n",
    "print(x%y)\n",
    "\n",
    "#Power(**)\n",
    "print(2**2)\n",
    "print(x**y)\n",
    "\n",
    "#Precedece and Associativity\n",
    "print(10+5-8/2)"
   ]
  },
  {
   "cell_type": "markdown",
   "metadata": {},
   "source": [
    "4.2 Comparision Operators"
   ]
  },
  {
   "cell_type": "code",
   "execution_count": null,
   "metadata": {},
   "outputs": [],
   "source": [
    "# Greater than (>)\n",
    "print(10>20)\n",
    "print(2.5>2.0)\n",
    "\n",
    "# Lesser than (<)\n",
    "print(10<20)\n",
    "print(2.5<2.0)\n",
    "\n",
    "# Equal to (==)\n",
    "print(10==20)\n",
    "print(2.0==2.0)\n",
    "\n",
    "# Lesser than or Equal to (<=)\n",
    "print(10<=20)\n",
    "print(2.5<=2.0)\n",
    "print(10<=10)\n",
    "\n",
    "# Greater than or Equal to (>=)\n",
    "print(10>=20)\n",
    "print(2.5>=2.0)\n",
    "print(10>=10)\n",
    "\n",
    "# Not Equal to (!=)\n",
    "print(10!=20)\n",
    "print(2.0!=2.0)"
   ]
  },
  {
   "cell_type": "markdown",
   "metadata": {},
   "source": [
    "4.3 Logical Operators"
   ]
  },
  {
   "cell_type": "code",
   "execution_count": null,
   "metadata": {},
   "outputs": [],
   "source": [
    "x=10\n",
    "y=20\n",
    "z=30\n",
    "\n",
    "#Logical AND\n",
    "print(x>y and y>z)\n",
    "print(y>x and z>y)\n",
    "print(y>x and z<y)\n",
    "\n",
    "#Logical OR\n",
    "print(x>y or y>z)\n",
    "print(y>x or z>y)\n",
    "print(y>x or z<y)\n",
    "\n",
    "#Logical NOT\n",
    "print(not(x>y or y>z))\n",
    "print(not(y>x or z>y))\n",
    "print(not(y>x or z<y))"
   ]
  },
  {
   "cell_type": "markdown",
   "metadata": {},
   "source": [
    "4.4 Bitwise Operators"
   ]
  },
  {
   "cell_type": "code",
   "execution_count": null,
   "metadata": {},
   "outputs": [],
   "source": [
    "x=10\n",
    "y=20\n",
    "z=30\n",
    "\n",
    "#Logical AND\n",
    "print(x>y and y>z)\n",
    "print(y>x and z>y)\n",
    "print(y>x and z<y)\n",
    "\n",
    "#Logical OR\n",
    "print(x>y or y>z)\n",
    "print(y>x or z>y)\n",
    "print(y>x or z<y)\n",
    "\n",
    "#Logical NOT\n",
    "print(not(x>y or y>z))\n",
    "print(not(y>x or z>y))\n",
    "print(not(y>x or z<y))"
   ]
  },
  {
   "cell_type": "markdown",
   "metadata": {},
   "source": [
    "4.5 Assignment Operators"
   ]
  },
  {
   "cell_type": "code",
   "execution_count": null,
   "metadata": {},
   "outputs": [],
   "source": [
    "# Assign (=)\n",
    "x=10\n",
    "y=20\n",
    "\n",
    "# Add and Assign (+=)\n",
    "x+=y\n",
    "print(x)\n",
    "\n",
    "# Bitwise XOR and assign (^=)\n",
    "x^=y\n",
    "print(x)"
   ]
  },
  {
   "cell_type": "markdown",
   "metadata": {},
   "source": [
    "4.6 Membership Operators"
   ]
  },
  {
   "cell_type": "code",
   "execution_count": null,
   "metadata": {},
   "outputs": [],
   "source": [
    "# in operator\n",
    "name=\"Manjesh\"\n",
    "print(\"Man\"in name)\n",
    "\n",
    "num=[1,2,3,4,5]\n",
    "print(10 in num)\n",
    "\n",
    "# not in Operator\n",
    "print(\"Man\"not in name)\n",
    "print(10 not in num)\n",
    "\n",
    "# Homework\n",
    "dict1={'name':'Manjesh','age':18}\n",
    "print('name' in dict1)\n",
    "print('Manjesh' in dict1)\n",
    "print('age' in dict1)\n",
    "print(18 in dict1)\n"
   ]
  },
  {
   "cell_type": "markdown",
   "metadata": {},
   "source": [
    "4.7 Identify Operators"
   ]
  },
  {
   "cell_type": "code",
   "execution_count": null,
   "metadata": {},
   "outputs": [],
   "source": [
    "# id() Function\n",
    "str1=\"Hello\"\n",
    "print(str1)\n",
    "print(id(str1))\n",
    "print(id(\"Hello\"))\n",
    "\n",
    "# is Operator\n",
    "x=10\n",
    "y=10\n",
    "print(x is y)\n",
    "\n",
    "# is not Operator\n",
    "a=12\n",
    "b=13\n",
    "print(a is not b)\n",
    "\n",
    "# diff b/w \"==\" and \"is\"\n",
    "list1=[1,2,3]\n",
    "list2=[1,2,3]\n",
    "print(list1==list2)\n",
    "print(list1 is list2)"
   ]
  }
 ],
 "metadata": {
  "language_info": {
   "name": "python"
  }
 },
 "nbformat": 4,
 "nbformat_minor": 2
}
