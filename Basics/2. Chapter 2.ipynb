{
 "cells": [
  {
   "cell_type": "markdown",
   "metadata": {},
   "source": [
    "2. Chapter 2"
   ]
  },
  {
   "cell_type": "markdown",
   "metadata": {},
   "source": [
    "2. Strings"
   ]
  },
  {
   "cell_type": "markdown",
   "metadata": {},
   "source": [
    "2.1 Introduction"
   ]
  },
  {
   "cell_type": "code",
   "execution_count": null,
   "metadata": {},
   "outputs": [],
   "source": [
    "name=\"Manjesh\"\n",
    "name1='Manjesh'\n",
    "print(name)\n",
    "print(name1)\n",
    "print(\"I said 'He is Manjesh'\")\n",
    "\n",
    "print(\"Hello! \\\"I am Manjesh \\\" How's your Mother\")\n",
    "\n",
    "statement='''Hello !\n",
    "I am Manjesh.\n",
    "How ae  you '''\n",
    "\n",
    "print(statement)"
   ]
  },
  {
   "cell_type": "markdown",
   "metadata": {},
   "source": [
    "2.2 Accessing elements"
   ]
  },
  {
   "cell_type": "markdown",
   "metadata": {},
   "source": [
    "2.2.1 Accesing the Individual Characters\n"
   ]
  },
  {
   "cell_type": "code",
   "execution_count": null,
   "metadata": {},
   "outputs": [],
   "source": [
    "var='HELLO'\n",
    "print(var[0])\n",
    "print(var[1])"
   ]
  },
  {
   "cell_type": "markdown",
   "metadata": {},
   "source": [
    "2.2.2 Accesing the Individual Characters from the Last"
   ]
  },
  {
   "cell_type": "code",
   "execution_count": null,
   "metadata": {},
   "outputs": [],
   "source": [
    "print(var[-1])\n",
    "print(var[-(len(var))])"
   ]
  },
  {
   "cell_type": "markdown",
   "metadata": {},
   "source": [
    "2.2.3 Accesing the Substring of a string"
   ]
  },
  {
   "cell_type": "code",
   "execution_count": null,
   "metadata": {},
   "outputs": [],
   "source": [
    "print(var[0:4])\n",
    "print(var[:4])\n",
    "print(var[1:])\n",
    "print(var[:])\n",
    "print(var[-1:-3])\n",
    "print(var[-3:-1])"
   ]
  },
  {
   "cell_type": "markdown",
   "metadata": {},
   "source": [
    "2.3 String Operators"
   ]
  },
  {
   "cell_type": "markdown",
   "metadata": {},
   "source": [
    "2.3.1 String Concatenate Operator"
   ]
  },
  {
   "cell_type": "code",
   "execution_count": null,
   "metadata": {},
   "outputs": [],
   "source": [
    "print('a'+'b'+'c')\n",
    "\n",
    "x=\"I\"\n",
    "y=\" am\"\n",
    "z=\" Manjesh.\"\n",
    "print(x+y+z)"
   ]
  },
  {
   "cell_type": "markdown",
   "metadata": {},
   "source": [
    "2.3.2 String Repetition Operator"
   ]
  },
  {
   "cell_type": "code",
   "execution_count": null,
   "metadata": {},
   "outputs": [],
   "source": [
    "print(3*\"Manjesh \")\n",
    "print(\"Manjesh \"*3)\n",
    "print(0*\"Manjesh \")\n",
    "print(-3*\"Manjesh \")"
   ]
  },
  {
   "cell_type": "markdown",
   "metadata": {},
   "source": [
    "2.3.3 String Comparison Operators"
   ]
  },
  {
   "cell_type": "markdown",
   "metadata": {},
   "source": [
    "2.3.3.1 \"==\" Operator"
   ]
  },
  {
   "cell_type": "code",
   "execution_count": null,
   "metadata": {},
   "outputs": [],
   "source": [
    "print('Hello'=='Hello')\n",
    "print('Hello'=='hello')"
   ]
  },
  {
   "cell_type": "markdown",
   "metadata": {},
   "source": [
    "2.3.3.2 \"!=\" Operator"
   ]
  },
  {
   "cell_type": "code",
   "execution_count": null,
   "metadata": {},
   "outputs": [],
   "source": [
    "print('Hello'!='Hello')\n",
    "print('Hello'!='hello')"
   ]
  },
  {
   "cell_type": "markdown",
   "metadata": {},
   "source": [
    "2.3.3.3 \"<\" Operator"
   ]
  },
  {
   "cell_type": "code",
   "execution_count": null,
   "metadata": {},
   "outputs": [],
   "source": [
    "print('Hello'<'hello')\n",
    "print('hEllo'<'hello')\n",
    "print('hello'<'Hello')"
   ]
  },
  {
   "cell_type": "markdown",
   "metadata": {},
   "source": [
    "2.3.3.4 \"<=\" Operator"
   ]
  },
  {
   "cell_type": "code",
   "execution_count": null,
   "metadata": {},
   "outputs": [],
   "source": [
    "print('Hello'<='Hello')"
   ]
  },
  {
   "cell_type": "markdown",
   "metadata": {},
   "source": [
    "2.3.3.5 \">\" Operator"
   ]
  },
  {
   "cell_type": "code",
   "execution_count": null,
   "metadata": {},
   "outputs": [],
   "source": [
    "print('Hello'>'hello')\n",
    "print('hEllo'>'hello')"
   ]
  },
  {
   "cell_type": "markdown",
   "metadata": {},
   "source": [
    "2.3.3.6 \">=\" Operator"
   ]
  },
  {
   "cell_type": "code",
   "execution_count": null,
   "metadata": {},
   "outputs": [],
   "source": [
    "print('Hello'>='Hello')"
   ]
  },
  {
   "cell_type": "markdown",
   "metadata": {},
   "source": [
    "2.3.4 String Membership Operator"
   ]
  },
  {
   "cell_type": "markdown",
   "metadata": {},
   "source": [
    "2.3.4.1 The \"in\" operator"
   ]
  },
  {
   "cell_type": "code",
   "execution_count": null,
   "metadata": {},
   "outputs": [],
   "source": [
    "print('Man' in 'Manjesh')\n",
    "print('j' in 'Manjesh')\n",
    "print('jese' in 'Manjesh')"
   ]
  },
  {
   "cell_type": "markdown",
   "metadata": {},
   "source": [
    "2.3.4.2 The \"not in\" Operator"
   ]
  },
  {
   "cell_type": "code",
   "execution_count": null,
   "metadata": {},
   "outputs": [],
   "source": [
    "print('Man' not in 'Manjesh')\n",
    "print('j' not in 'Manjesh')\n",
    "print('jse' not in 'Manjesh')"
   ]
  },
  {
   "cell_type": "markdown",
   "metadata": {},
   "source": [
    "2.3.5 Escape Sequence Operator"
   ]
  },
  {
   "cell_type": "code",
   "execution_count": null,
   "metadata": {},
   "outputs": [],
   "source": [
    "print(\"I am \\\"Indian\\\"\")\n",
    "print(\"I am Manjesh and \\nI am \\x66rom \\\"Indi\\141.\\\"\")"
   ]
  },
  {
   "cell_type": "markdown",
   "metadata": {},
   "source": [
    "2.3.6 String Formatting Operators"
   ]
  },
  {
   "cell_type": "code",
   "execution_count": null,
   "metadata": {},
   "outputs": [],
   "source": [
    "age=18\n",
    "print(\"My age is %d\"%(age))"
   ]
  },
  {
   "cell_type": "markdown",
   "metadata": {},
   "source": [
    "2.4 String Slicing"
   ]
  },
  {
   "cell_type": "code",
   "execution_count": null,
   "metadata": {},
   "outputs": [],
   "source": [
    "s=\"I am Manjesh\"\n",
    "print(s[0:8])\n",
    "\n",
    "#Slicing With the Third Parameter\n",
    "print(s[0:8:2])\n",
    "\n",
    "#Eliminating of first and second parameter\n",
    "\n",
    "print(s[::3])\n",
    "print(s[1::3])\n",
    "print(s[:10:3])\n",
    "\n",
    "#Negative Third Parameter\n",
    "\n",
    "print(s[8:1:-2])\n",
    "\n",
    "# Reverse Entire String\n",
    "print(s[::-1])"
   ]
  },
  {
   "cell_type": "markdown",
   "metadata": {},
   "source": [
    "2.5 String Formatting"
   ]
  },
  {
   "cell_type": "markdown",
   "metadata": {},
   "source": [
    "2.5.1 \"%\" Formatting"
   ]
  },
  {
   "cell_type": "code",
   "execution_count": null,
   "metadata": {},
   "outputs": [],
   "source": [
    "name='Manjesh'\n",
    "print(\"My name is %s.\" %name)\n",
    "city=\"Banglore\"\n",
    "print(\"My name is %s , I live in %s.\" %(name,city))\n",
    "print(\"My name is {} , I live in {}.\" .format(name,city))\n",
    "print(\"My name is {0} , I live in {1}.\" .format(name,city))\n",
    "n=\"Manjesh\"\n",
    "c=\"Banglore\"\n",
    "print(\"My name is {nam} , I live in {cit}.\" .format(nam=n,cit=c))\n",
    "print(\"I got {0:f}% marks in Maths.\".format(98.00))\n",
    "print(\"I got {0:d}% marks in Maths.\".format(98))\n",
    "print(\"I got {0:.2f}% marks in Maths.\".format(98.00))"
   ]
  },
  {
   "cell_type": "markdown",
   "metadata": {},
   "source": [
    "2.5.2 F strings"
   ]
  },
  {
   "cell_type": "code",
   "execution_count": null,
   "metadata": {},
   "outputs": [],
   "source": [
    "name='Manjesh'\n",
    "city=\"Banglore\"\n",
    "print(f\"My name is {name} , I live in {city}.\")\n",
    "print(f\"My name is {name.upper()} , I live in {city.upper()}.\")\n",
    "\n",
    "age=18\n",
    "gender=\"male\"\n",
    "introduction=f\"My name is {name} , \"\\\n",
    "    f\"My age is {age}, \"\\\n",
    "    f\"I am a {gender}.\"\n",
    "print(introduction)\n",
    "\n",
    "introduction=f'''\"My name is {name} , \"\n",
    "    f\"My age is {age}, \"\n",
    "    f\"I am a {gender}.\"'''\n",
    "print(introduction)\n",
    "\n",
    "print(f\"{'Manjesh'}\")\n",
    "print(f'{\"Manjesh\"}')\n",
    "\n",
    "x=10\n",
    "y=20\n",
    "print(f'The x+y is {x+y}')\n",
    "print(f\"the result of {{x+y}} is {{{x+y}}}\")"
   ]
  },
  {
   "cell_type": "markdown",
   "metadata": {},
   "source": [
    "2.6 STRING METHODS"
   ]
  },
  {
   "cell_type": "markdown",
   "metadata": {},
   "source": [
    "2.6.1 Strip( ) Method"
   ]
  },
  {
   "cell_type": "code",
   "execution_count": null,
   "metadata": {},
   "outputs": [],
   "source": [
    "str1=\"   Hello World     \"\n",
    "print(str1.strip())\n",
    "\n",
    "str2=\"###Hello World##\"\n",
    "print(str2.strip('#'))\n",
    "\n",
    "str3=\" ##Hello World###\"\n",
    "print(str3.strip('#'))\n",
    "\n",
    "str4=\"Hello World\"\n",
    "print(str4.strip('HloW'))"
   ]
  },
  {
   "cell_type": "markdown",
   "metadata": {},
   "source": [
    "2.6.2 \"lstrip()\" Method"
   ]
  },
  {
   "cell_type": "code",
   "execution_count": null,
   "metadata": {},
   "outputs": [],
   "source": [
    "str1=\"   Hello World     \"\n",
    "str2=\"###Hello World##\"\n",
    "print(str1.lstrip())\n",
    "\n",
    "print(str2.lstrip('#'))"
   ]
  },
  {
   "cell_type": "markdown",
   "metadata": {},
   "source": [
    "2.6.3 \"rstrip( )\" Method"
   ]
  },
  {
   "cell_type": "code",
   "execution_count": null,
   "metadata": {},
   "outputs": [],
   "source": [
    "str1=\"   Hello World     \"\n",
    "str2=\"###Hello World##\"\n",
    "print(str1.rstrip())\n",
    "print(str2.rstrip('#'))"
   ]
  },
  {
   "cell_type": "markdown",
   "metadata": {},
   "source": [
    "2.6.4 \"split( )\" Method"
   ]
  },
  {
   "cell_type": "code",
   "execution_count": null,
   "metadata": {},
   "outputs": [],
   "source": [
    "x=\"Hello!$I$am$Manjesh\"\n",
    "print(x.split('$',maxsplit=2))\n",
    "print(x.split('$',maxsplit=3))\n",
    "print(\"I am Manjesh\".split())"
   ]
  },
  {
   "cell_type": "markdown",
   "metadata": {},
   "source": [
    "2.6.5 \"rsplit( )\"Method"
   ]
  },
  {
   "cell_type": "code",
   "execution_count": null,
   "metadata": {},
   "outputs": [],
   "source": [
    "x=\"Hello!$I$am$Manjesh\"\n",
    "print(x.rsplit('$',maxsplit=2))"
   ]
  },
  {
   "cell_type": "markdown",
   "metadata": {},
   "source": [
    "2.6.6 \"join( )\" Method"
   ]
  },
  {
   "cell_type": "code",
   "execution_count": null,
   "metadata": {},
   "outputs": [],
   "source": [
    "l1=['H','e','l','l','o']\n",
    "print(''.join(l1))\n",
    "\n",
    "a=\"I am Manjesh\"\n",
    "print(''.join(a))\n",
    "\n",
    "l2=['I','am','Manjesh']\n",
    "print(' '.join(l2))\n",
    "\n",
    "d1={'name':'Adams','country':'US'}\n",
    "print(\" and \".join(d1))"
   ]
  },
  {
   "cell_type": "markdown",
   "metadata": {},
   "source": [
    "2.6.7 \"replace()\" Method"
   ]
  },
  {
   "cell_type": "code",
   "execution_count": null,
   "metadata": {},
   "outputs": [],
   "source": [
    "a=\"I am Manjesh\"\n",
    "print(a.replace('Manjesh','Manju'))\n",
    "print(a.replace(' ','-',1))\n"
   ]
  },
  {
   "cell_type": "markdown",
   "metadata": {},
   "source": [
    "2.6.8 \"upper()\" Method"
   ]
  },
  {
   "cell_type": "code",
   "execution_count": null,
   "metadata": {},
   "outputs": [],
   "source": [
    "name=\"manjesh\"\n",
    "print(name.upper())"
   ]
  },
  {
   "cell_type": "markdown",
   "metadata": {},
   "source": [
    "2.6.9 \"lower( )\" Method"
   ]
  },
  {
   "cell_type": "code",
   "execution_count": null,
   "metadata": {},
   "outputs": [],
   "source": [
    "Name=\"MANJESH\"\n",
    "print(Name.lower())"
   ]
  },
  {
   "cell_type": "markdown",
   "metadata": {},
   "source": [
    "2.6.10 \"capitalize()\" Method"
   ]
  },
  {
   "cell_type": "code",
   "execution_count": null,
   "metadata": {},
   "outputs": [],
   "source": [
    "name=\"manjesh\"\n",
    "print(name.capitalize())\n",
    "print(\"14manjesh\".capitalize())"
   ]
  },
  {
   "cell_type": "markdown",
   "metadata": {},
   "source": [
    "2.6.11 \"isupper()\" Method"
   ]
  },
  {
   "cell_type": "code",
   "execution_count": null,
   "metadata": {},
   "outputs": [],
   "source": [
    "name=\"manjesh\"\n",
    "Name=\"MANJESH\"\n",
    "print(name.isupper())\n",
    "print(Name.isupper())"
   ]
  },
  {
   "cell_type": "markdown",
   "metadata": {},
   "source": [
    "2.6.12 \"islower()\" Method"
   ]
  },
  {
   "cell_type": "code",
   "execution_count": null,
   "metadata": {},
   "outputs": [],
   "source": [
    "name=\"manjesh\"\n",
    "Name=\"MANJESH\"\n",
    "print(name.islower())\n",
    "print(Name.islower())"
   ]
  },
  {
   "cell_type": "markdown",
   "metadata": {},
   "source": [
    "2.6.13 \"isalpha()\" Method"
   ]
  },
  {
   "cell_type": "code",
   "execution_count": null,
   "metadata": {},
   "outputs": [],
   "source": [
    "a=\"I am Manjesh\"\n",
    "name=\"manjesh\"\n",
    "print(name.isalpha())\n",
    "print('12A'.isalpha())\n",
    "print(a.isalpha())"
   ]
  },
  {
   "cell_type": "markdown",
   "metadata": {},
   "source": [
    "2.6.14 \"isnumeric()\" Method"
   ]
  },
  {
   "cell_type": "code",
   "execution_count": null,
   "metadata": {},
   "outputs": [],
   "source": [
    "print('12'.isnumeric())\n",
    "print('12.3'.isnumeric())\n",
    "print(\"4/2\".isnumeric())"
   ]
  },
  {
   "cell_type": "markdown",
   "metadata": {},
   "source": [
    "2.6.15  \"isalnum()\" Method"
   ]
  },
  {
   "cell_type": "code",
   "execution_count": null,
   "metadata": {},
   "outputs": [],
   "source": [
    "a=\"I am Manjesh\"\n",
    "name=\"manjesh\"\n",
    "print(name.isalnum())\n",
    "print('123'.isalnum())\n",
    "print('14Manjesh'.isalnum())\n",
    "print(a.isalnum())"
   ]
  },
  {
   "cell_type": "markdown",
   "metadata": {},
   "source": [
    "2.6.16 \"count()\" Method"
   ]
  },
  {
   "cell_type": "code",
   "execution_count": null,
   "metadata": {},
   "outputs": [],
   "source": [
    "a=\"I am Manjesh\"\n",
    "print(a.count('a'))\n",
    "print(a.count('a',1,5))\n",
    "print(a.count('Manjesh',0,len(a)-1))"
   ]
  },
  {
   "cell_type": "markdown",
   "metadata": {},
   "source": [
    "2.6.17 \"find()\" Method"
   ]
  },
  {
   "cell_type": "code",
   "execution_count": null,
   "metadata": {},
   "outputs": [],
   "source": [
    "a=\"I am Manjesh\"\n",
    "print(a.find(\"a\"))\n",
    "print(a.find('a',5))\n",
    "print(a.find('Manjesh'))"
   ]
  },
  {
   "cell_type": "markdown",
   "metadata": {},
   "source": [
    "2.6.18 \"rfind()\" Method"
   ]
  },
  {
   "cell_type": "code",
   "execution_count": null,
   "metadata": {},
   "outputs": [],
   "source": [
    "a=\"I am Manjesh\"\n",
    "print(a.rfind(\"a\"))\n",
    "print(a.rfind('a',0,5))\n",
    "print(a.rfind('Manjesh'))\n"
   ]
  },
  {
   "cell_type": "markdown",
   "metadata": {},
   "source": [
    "2.6.19 \"index()\" Method"
   ]
  },
  {
   "cell_type": "code",
   "execution_count": null,
   "metadata": {},
   "outputs": [],
   "source": [
    "a=\"I am Manjesh\"\n",
    "print(a.index(\"a\"))\n",
    "print(a.index('a',0,5))\n",
    "print(a.index('Manjesh'))\n",
    "# print(a.index(\"R\"))  Value Error"
   ]
  },
  {
   "cell_type": "markdown",
   "metadata": {},
   "source": [
    "2.6.20 \"rindex()\" Method"
   ]
  },
  {
   "cell_type": "code",
   "execution_count": null,
   "metadata": {},
   "outputs": [],
   "source": [
    "a=\"I am Manjesh\"\n",
    "print(a.rindex(\"a\"))\n",
    "print(a.rindex('a',0,5))"
   ]
  }
 ],
 "metadata": {
  "kernelspec": {
   "display_name": "Python 3",
   "language": "python",
   "name": "python3"
  },
  "language_info": {
   "codemirror_mode": {
    "name": "ipython",
    "version": 3
   },
   "file_extension": ".py",
   "mimetype": "text/x-python",
   "name": "python",
   "nbconvert_exporter": "python",
   "pygments_lexer": "ipython3",
   "version": "3.12.4"
  }
 },
 "nbformat": 4,
 "nbformat_minor": 2
}
