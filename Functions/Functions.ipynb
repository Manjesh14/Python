{
 "cells": [
  {
   "cell_type": "markdown",
   "metadata": {},
   "source": [
    "6. Chapter 6"
   ]
  },
  {
   "cell_type": "markdown",
   "metadata": {},
   "source": [
    "6 Functions in Python"
   ]
  },
  {
   "cell_type": "markdown",
   "metadata": {},
   "source": [
    "6.1 Built in Functions"
   ]
  },
  {
   "cell_type": "code",
   "execution_count": null,
   "metadata": {},
   "outputs": [],
   "source": [
    "# Print()\n",
    "print(\"Manjesh\",\"BTech\")    # sep=\" \"\n",
    "print(\"Manjesh\")\n",
    "print(\"BTech\")\n",
    "print(\"Manjesh\",\"BTech\",sep=\"\\t\")\n",
    "print(\"Manjesh\",end=' ')\n",
    "print(\"BTech\")\n",
    "\n",
    "# len()\n",
    "print(len(\"Manjesh\"))\n",
    "\n",
    "# type()\n",
    "print(type(\"Manjesh\"))\n",
    "print(type(45))\n",
    "\n",
    "# range()\n",
    "\n",
    "range(0,1)"
   ]
  },
  {
   "cell_type": "markdown",
   "metadata": {},
   "source": [
    "6.2 User Defined Functions"
   ]
  },
  {
   "cell_type": "code",
   "execution_count": null,
   "metadata": {},
   "outputs": [],
   "source": [
    "def sum(a,b):\n",
    "    sum=a+b\n",
    "    print(sum)\n",
    "    return sum\n",
    "\n",
    "sum(2,1)                #Calling of Functions\n",
    "sum(5,6)                #Calling of Functions\n",
    "\n",
    "\n",
    "#Similarly\n",
    "def calc(x,y=3):\n",
    "    return x+y\n",
    "\n",
    "print(calc(1))\n",
    "\n",
    "def print_hello():\n",
    "    print(\"hello\")\n",
    "\n",
    "s=1\n",
    "while s<=5:\n",
    "    print_hello()\n",
    "    s+=1"
   ]
  },
  {
   "cell_type": "markdown",
   "metadata": {},
   "source": [
    "6.2.2 Default Parameters"
   ]
  },
  {
   "cell_type": "code",
   "execution_count": null,
   "metadata": {},
   "outputs": [],
   "source": [
    "def cal_prod(a,b):\n",
    "    print(a*b)\n",
    "    return a*b\n",
    "\n",
    "# cal_prod()            # Error\n",
    "\n",
    "def calc_prod(x=1,y=2):\n",
    "    print(x*y)\n",
    "    return x*y\n",
    "\n",
    "calc_prod()\n",
    "\n",
    "def calprod(p,q=2):\n",
    "    print(p*q)\n",
    "    return p*q\n",
    "\n",
    "calprod(2)\n",
    "\n",
    "# def calcprod(s=0,t):      #Error\n",
    "#     print(s*t)\n",
    "#     return s*t"
   ]
  },
  {
   "cell_type": "markdown",
   "metadata": {},
   "source": [
    "6.2.3 Question : WAF to print the length of a list. ( list is the parameter)"
   ]
  },
  {
   "cell_type": "code",
   "execution_count": null,
   "metadata": {},
   "outputs": [],
   "source": [
    "cities=[\"Kollegal\",\"Mysore\",\"Banglore\",\"Delhi\"]\n",
    "heroes=[\"Prabhas\",\"Yash\", \"Allu\",\"Ram\",\"Ravi\"]\n",
    "\n",
    "def length(list):\n",
    "    print(len(list))\n",
    "\n",
    "length(cities)\n",
    "\n",
    "print(cities[0] ,end=\" \")\n",
    "print(cities[1]) \n",
    "\n",
    "def printlist(list):\n",
    "    for el in list:\n",
    "        print(el, end=\" \")\n",
    "\n",
    "printlist(heroes)\n",
    "print(\"\\n\")"
   ]
  },
  {
   "cell_type": "markdown",
   "metadata": {},
   "source": [
    "6.2.4 Question : WAF to find the factorial of n. (n is the parameter)"
   ]
  },
  {
   "cell_type": "code",
   "execution_count": null,
   "metadata": {},
   "outputs": [],
   "source": [
    "def calcfact(n):\n",
    "    fact=1\n",
    "    for i in range(1,n+1):\n",
    "        fact*=i\n",
    "    print(fact)\n",
    "\n",
    "calcfact(10)"
   ]
  },
  {
   "cell_type": "markdown",
   "metadata": {},
   "source": [
    "6.2.5 Question: WAF to convert USD to INR."
   ]
  },
  {
   "cell_type": "code",
   "execution_count": null,
   "metadata": {},
   "outputs": [],
   "source": [
    "def converter(usd):\n",
    "    inr=usd*83\n",
    "    print(usd, \"Usd =\", inr,\"inr\")\n",
    "usd=int(input(\"Enter the USD Value : \"))\n",
    "converter(usd)"
   ]
  },
  {
   "cell_type": "markdown",
   "metadata": {},
   "source": [
    "6.2.6 Question : Average Function"
   ]
  },
  {
   "cell_type": "code",
   "execution_count": null,
   "metadata": {},
   "outputs": [],
   "source": [
    "def avg(a,b,c):\n",
    "    av=(a+b+c)/3\n",
    "    print(av)\n",
    "\n",
    "avg(2,3,4)\n",
    "print(avg(1,2,4))"
   ]
  }
 ],
 "metadata": {
  "kernelspec": {
   "display_name": "Python 3",
   "language": "python",
   "name": "python3"
  },
  "language_info": {
   "codemirror_mode": {
    "name": "ipython",
    "version": 3
   },
   "file_extension": ".py",
   "mimetype": "text/x-python",
   "name": "python",
   "nbconvert_exporter": "python",
   "pygments_lexer": "ipython3",
   "version": "3.12.4"
  }
 },
 "nbformat": 4,
 "nbformat_minor": 2
}
